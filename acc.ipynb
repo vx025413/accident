{
 "cells": [
  {
   "cell_type": "code",
   "execution_count": 1,
   "metadata": {},
   "outputs": [
    {
     "name": "stderr",
     "output_type": "stream",
     "text": [
      "[nltk_data] Downloading package stopwords to\n",
      "[nltk_data]     C:\\Users\\24879\\AppData\\Roaming\\nltk_data...\n",
      "[nltk_data]   Package stopwords is already up-to-date!\n"
     ]
    },
    {
     "data": {
      "text/plain": [
       "True"
      ]
     },
     "execution_count": 1,
     "metadata": {},
     "output_type": "execute_result"
    }
   ],
   "source": [
    "import nltk  \n",
    "nltk.download('stopwords')"
   ]
  },
  {
   "cell_type": "code",
   "execution_count": 2,
   "metadata": {},
   "outputs": [
    {
     "name": "stderr",
     "output_type": "stream",
     "text": [
      "C:\\Users\\24879\\AppData\\Local\\Temp\\ipykernel_28508\\2707259034.py:9: FutureWarning: DataFrame.fillna with 'method' is deprecated and will raise in a future version. Use obj.ffill() or obj.bfill() instead.\n",
      "  df.fillna(method='ffill', inplace=True)\n"
     ]
    }
   ],
   "source": [
    "import pandas as pd\n",
    "import numpy as np\n",
    "from sklearn.feature_extraction.text import CountVectorizer\n",
    "\n",
    "# 读取CSV文件\n",
    "df = pd.read_csv('fake_accident_data.csv')\n",
    "\n",
    "# 填充缺失值\n",
    "df.fillna(method='ffill', inplace=True)\n",
    "\n",
    "# 处理异常值和重复值\n",
    "# 这里假设异常值为大于100的数据，并将其替换为缺失值\n",
    "df['PERSONCOUNT'] = np.where(df['PERSONCOUNT'] > 100, np.nan, df['PERSONCOUNT'])\n",
    "df.drop_duplicates(inplace=True)\n",
    "\n",
    "# 使用NumPy进行数值计算和数据转换\n",
    "# 假设需要对'PERSONCOUNT'列进行平方处理，并将结果存储到新列'PERSONCOUNT_SQUARE'中\n",
    "df['PERSONCOUNT_SQUARE'] = np.square(df['PERSONCOUNT'])\n",
    "\n",
    "# 对文本数据进行NLP处理\n",
    "vectorizer = CountVectorizer(stop_words=None)  # 移除停用词\n",
    "text_data = df['LOCATION'].astype(str).tolist()  # 将'LOCATION'列转换为字符串列表\n",
    "X = vectorizer.fit_transform(text_data)\n",
    "df['LOCATION_NLP'] = X.toarray().tolist()  # 将处理后的文本数据存储到新的列中\n",
    "\n",
    "# 将预处理后的数据存储到数据仓库中（这里简化为另一个CSV文件）\n",
    "df.to_csv('preprocessed_accident_data.csv', index=False)\n"
   ]
  }
 ],
 "metadata": {
  "kernelspec": {
   "display_name": "pytorch",
   "language": "python",
   "name": "python3"
  },
  "language_info": {
   "codemirror_mode": {
    "name": "ipython",
    "version": 3
   },
   "file_extension": ".py",
   "mimetype": "text/x-python",
   "name": "python",
   "nbconvert_exporter": "python",
   "pygments_lexer": "ipython3",
   "version": "3.11.5"
  }
 },
 "nbformat": 4,
 "nbformat_minor": 2
}
